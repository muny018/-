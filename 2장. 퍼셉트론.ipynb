{
 "cells": [
  {
   "cell_type": "markdown",
   "metadata": {},
   "source": [
    "# 2장 퍼셉트론"
   ]
  },
  {
   "cell_type": "markdown",
   "metadata": {},
   "source": [
    "- 퍼셉트론은 입출력을 갖춘 알고리즘이다. (어찌보면 함수와 같은 개념일지도..? 정형화된 함수)\n",
    "- 퍼셉트론은 '가중치'와 '편향'을 매개변수로 갖는다. \n",
    "- 퍼셉트론은 And, OR 게이트의 논리 회로를 표현할 수 있다.\n",
    "- XOR 게이트의 경우 단층 퍼셉트론으로는 표현 불가능하다.\n",
    "- 단층 퍼셉트론은 직선 영역만 표현할 수 있고, 다층 퍼셉트론을 이용하여 비선형 영역을 표현할 수 있다. \n",
    "- 다층 퍼셉트론은 (이론상) 컴퓨터를 표현할 수 있다. "
   ]
  },
  {
   "cell_type": "markdown",
   "metadata": {},
   "source": [
    "## 2.3 퍼셉트론 구현하기"
   ]
  },
  {
   "cell_type": "markdown",
   "metadata": {},
   "source": [
    "### 2.3.1 And 게이트 구현"
   ]
  },
  {
   "cell_type": "code",
   "execution_count": 5,
   "metadata": {},
   "outputs": [],
   "source": [
    "def AND(x1,x2):\n",
    "    w1,w2,Theta = 0.5, 0.5, 0.7\n",
    "    tmp = w1*x1+w2*x2\n",
    "    if tmp <= Theta:\n",
    "        return 0\n",
    "    elif tmp >Theta:\n",
    "        return 1"
   ]
  },
  {
   "cell_type": "code",
   "execution_count": 7,
   "metadata": {},
   "outputs": [
    {
     "data": {
      "text/plain": [
       "0"
      ]
     },
     "execution_count": 7,
     "metadata": {},
     "output_type": "execute_result"
    }
   ],
   "source": [
    "AND(0,0)"
   ]
  },
  {
   "cell_type": "code",
   "execution_count": 8,
   "metadata": {},
   "outputs": [
    {
     "data": {
      "text/plain": [
       "0"
      ]
     },
     "execution_count": 8,
     "metadata": {},
     "output_type": "execute_result"
    }
   ],
   "source": [
    "AND(0,1)"
   ]
  },
  {
   "cell_type": "code",
   "execution_count": 9,
   "metadata": {},
   "outputs": [
    {
     "data": {
      "text/plain": [
       "0"
      ]
     },
     "execution_count": 9,
     "metadata": {},
     "output_type": "execute_result"
    }
   ],
   "source": [
    "AND(1,0)"
   ]
  },
  {
   "cell_type": "code",
   "execution_count": 10,
   "metadata": {},
   "outputs": [
    {
     "data": {
      "text/plain": [
       "1"
      ]
     },
     "execution_count": 10,
     "metadata": {},
     "output_type": "execute_result"
    }
   ],
   "source": [
    "AND(1,1)"
   ]
  },
  {
   "cell_type": "markdown",
   "metadata": {},
   "source": [
    "### 2.3.2 가중치와 편향 도입 "
   ]
  },
  {
   "cell_type": "markdown",
   "metadata": {},
   "source": [
    "- Thresholod 역할을 하던 Theta를 좌변으로 이항하면서 b = -Theta로 치환해준 결과와 같다."
   ]
  },
  {
   "cell_type": "code",
   "execution_count": 12,
   "metadata": {},
   "outputs": [],
   "source": [
    "import numpy as np\n",
    "x= np.array([0,1]) #입력\n",
    "w = np.array([0.5, 0.5]) #weight\n",
    "b = -0.7"
   ]
  },
  {
   "cell_type": "code",
   "execution_count": 13,
   "metadata": {},
   "outputs": [
    {
     "data": {
      "text/plain": [
       "array([0. , 0.5])"
      ]
     },
     "execution_count": 13,
     "metadata": {},
     "output_type": "execute_result"
    }
   ],
   "source": [
    "w*x"
   ]
  },
  {
   "cell_type": "code",
   "execution_count": 14,
   "metadata": {},
   "outputs": [
    {
     "data": {
      "text/plain": [
       "-0.19999999999999996"
      ]
     },
     "execution_count": 14,
     "metadata": {},
     "output_type": "execute_result"
    }
   ],
   "source": [
    "np.sum(w*x)+b"
   ]
  },
  {
   "cell_type": "markdown",
   "metadata": {},
   "source": [
    "### 2.3.3 가중치 편향 구현하기"
   ]
  },
  {
   "cell_type": "code",
   "execution_count": 16,
   "metadata": {},
   "outputs": [],
   "source": [
    "def AND(x1,x2):\n",
    "    x=np.array([x1,x2])\n",
    "    w=np.array([0.5,0.5])\n",
    "    b = -0.7\n",
    "    temp = np.sum(x*w) +b\n",
    "    if temp > 0:\n",
    "        return 1\n",
    "    elif temp<=0:\n",
    "        return 0"
   ]
  },
  {
   "cell_type": "code",
   "execution_count": 18,
   "metadata": {},
   "outputs": [
    {
     "name": "stdout",
     "output_type": "stream",
     "text": [
      "(0, 0) -> 0\n",
      "(1, 0) -> 0\n",
      "(0, 1) -> 0\n",
      "(1, 1) -> 1\n"
     ]
    }
   ],
   "source": [
    "for xs in [(0,0), (1,0), (0,1), (1,1)]:\n",
    "    y = AND(xs[0], xs[1])\n",
    "    print(str(xs) + \" -> \" + str(y))"
   ]
  },
  {
   "cell_type": "markdown",
   "metadata": {},
   "source": [
    "- ↓ NAND 게이트 구현"
   ]
  },
  {
   "cell_type": "code",
   "execution_count": 19,
   "metadata": {},
   "outputs": [
    {
     "name": "stdout",
     "output_type": "stream",
     "text": [
      "(0, 0) -> 1\n",
      "(0, 1) -> 1\n",
      "(1, 0) -> 1\n",
      "(1, 1) -> 0\n"
     ]
    }
   ],
   "source": [
    "def NAND(x1,x2):\n",
    "    x = np.array([x1,x2])\n",
    "    w = np.array([-0.5,-0.5])\n",
    "    b = 0.7\n",
    "    temp = np.sum(x*w)+b\n",
    "    if temp <= 0: \n",
    "        return 0\n",
    "    elif temp>0:\n",
    "        return 1\n",
    "    \n",
    "for xs in [(0,0), (0,1), (1,0), (1,1)]:\n",
    "    y = NAND(xs[0],xs[1])\n",
    "    print(str(xs) + \" -> \" + str(y))"
   ]
  },
  {
   "cell_type": "markdown",
   "metadata": {},
   "source": [
    "- ↓ OR 게이트 구현"
   ]
  },
  {
   "cell_type": "code",
   "execution_count": 20,
   "metadata": {},
   "outputs": [
    {
     "name": "stdout",
     "output_type": "stream",
     "text": [
      "(0, 0) -> 0\n",
      "(0, 1) -> 1\n",
      "(1, 0) -> 1\n",
      "(1, 1) -> 1\n"
     ]
    }
   ],
   "source": [
    "def OR(x1,x2):\n",
    "    x= np.array([x1,x2])\n",
    "    w= np.array([0.5, 0.5])\n",
    "    b= -0.2\n",
    "    temp = np.sum(w*x)+b\n",
    "    if temp <=0:\n",
    "        return 0\n",
    "    elif temp>0:\n",
    "        return 1\n",
    "    \n",
    "for xs in [(0,0), (0,1), (1,0), (1,1)]:\n",
    "    y = OR(xs[0],xs[1])\n",
    "    print(str(xs) + \" -> \" + str(y))"
   ]
  },
  {
   "cell_type": "code",
   "execution_count": null,
   "metadata": {},
   "outputs": [],
   "source": [
    "- ↓ XOR 게이트 구현"
   ]
  },
  {
   "cell_type": "code",
   "execution_count": 22,
   "metadata": {},
   "outputs": [
    {
     "name": "stdout",
     "output_type": "stream",
     "text": [
      "(0, 0) -> 0\n",
      "(0, 1) -> 1\n",
      "(1, 0) -> 1\n",
      "(1, 1) -> 0\n"
     ]
    }
   ],
   "source": [
    "def XOR(x1,x2):\n",
    "    s1 = NAND(x1,x2)\n",
    "    s2 = OR(x1,x2)\n",
    "    y = AND(s1,s2)\n",
    "    return y\n",
    "\n",
    "for xs in [(0,0), (0,1), (1,0), (1,1)]:\n",
    "    y = XOR(xs[0],xs[1])\n",
    "    print(str(xs) + \" -> \" + str(y))"
   ]
  }
 ],
 "metadata": {
  "kernelspec": {
   "display_name": "Python 3",
   "language": "python",
   "name": "python3"
  },
  "language_info": {
   "codemirror_mode": {
    "name": "ipython",
    "version": 3
   },
   "file_extension": ".py",
   "mimetype": "text/x-python",
   "name": "python",
   "nbconvert_exporter": "python",
   "pygments_lexer": "ipython3",
   "version": "3.8.5"
  }
 },
 "nbformat": 4,
 "nbformat_minor": 4
}
